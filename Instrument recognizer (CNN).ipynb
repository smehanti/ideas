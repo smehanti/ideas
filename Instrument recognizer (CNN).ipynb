{
 "cells": [
  {
   "cell_type": "code",
   "execution_count": 1,
   "metadata": {},
   "outputs": [
    {
     "name": "stderr",
     "output_type": "stream",
     "text": [
      "Using TensorFlow backend.\n"
     ]
    }
   ],
   "source": [
    "import tensorflow as tf\n",
    "from keras.preprocessing.image import ImageDataGenerator"
   ]
  },
  {
   "cell_type": "code",
   "execution_count": 23,
   "metadata": {},
   "outputs": [],
   "source": [
    "train_datagen= ImageDataGenerator(\n",
    "rescale=1./255,\n",
    "shear_range=0.2,\n",
    "zoom_range=0.2,\n",
    "horizontal_flip=True)\n"
   ]
  },
  {
   "cell_type": "code",
   "execution_count": 24,
   "metadata": {},
   "outputs": [
    {
     "name": "stdout",
     "output_type": "stream",
     "text": [
      "Found 800 images belonging to 16 classes.\n"
     ]
    }
   ],
   "source": [
    "training_set=train_datagen.flow_from_directory(\n",
    "'/Users/saurabhmehanti/Desktop/Training_set',\n",
    "target_size=(64,64),\n",
    "batch_size=32,\n",
    "class_mode='categorical')"
   ]
  },
  {
   "cell_type": "code",
   "execution_count": 25,
   "metadata": {},
   "outputs": [],
   "source": [
    "cnn=tf.keras.models.Sequential()"
   ]
  },
  {
   "cell_type": "code",
   "execution_count": 26,
   "metadata": {},
   "outputs": [],
   "source": [
    "cnn.add(tf.keras.layers.Conv2D(filters=32,kernel_size=3, activation='relu',input_shape=[64,64,3]))\n",
    "\n",
    "\n",
    "cnn.add(tf.keras.layers.MaxPool2D(pool_size=2, strides=2))\n"
   ]
  },
  {
   "cell_type": "code",
   "execution_count": 27,
   "metadata": {},
   "outputs": [],
   "source": [
    "\n",
    "# second layer\n",
    "\n",
    "cnn.add(tf.keras.layers.Conv2D(filters=32,kernel_size=3, activation='relu'))\n",
    "cnn.add(tf.keras.layers.MaxPool2D(pool_size=2, strides=2))\n",
    "\n",
    "\n",
    "# third layer\n",
    "\n",
    "cnn.add(tf.keras.layers.Conv2D(filters=32,kernel_size=3, activation='relu'))\n",
    "cnn.add(tf.keras.layers.MaxPool2D(pool_size=2, strides=2))\n",
    "\n",
    "# flattening\n",
    "\n",
    "cnn.add(tf.keras.layers.Flatten())\n",
    "\n",
    "# full connection\n",
    "\n",
    "cnn.add(tf.keras.layers.Dense(units=120,activation='relu'))\n",
    "\n",
    "# output layer\n",
    "\n",
    "cnn.add(tf.keras.layers.Dense(units=16, activation='softmax'))\n"
   ]
  },
  {
   "cell_type": "code",
   "execution_count": 28,
   "metadata": {},
   "outputs": [],
   "source": [
    "# compiling\n",
    "\n",
    "cnn.compile(optimizer='adam',loss='categorical_crossentropy',metrics=['accuracy'])"
   ]
  },
  {
   "cell_type": "code",
   "execution_count": 31,
   "metadata": {},
   "outputs": [
    {
     "name": "stdout",
     "output_type": "stream",
     "text": [
      "Epoch 1/60\n",
      "25/25 [==============================] - 3s 130ms/step - loss: 1.4903 - accuracy: 0.5337\n",
      "Epoch 2/60\n",
      "25/25 [==============================] - 3s 130ms/step - loss: 1.2816 - accuracy: 0.6012\n",
      "Epoch 3/60\n",
      "25/25 [==============================] - 3s 127ms/step - loss: 1.2858 - accuracy: 0.6150\n",
      "Epoch 4/60\n",
      "25/25 [==============================] - 3s 130ms/step - loss: 1.2109 - accuracy: 0.6162\n",
      "Epoch 5/60\n",
      "25/25 [==============================] - 3s 127ms/step - loss: 1.1058 - accuracy: 0.6737\n",
      "Epoch 6/60\n",
      "25/25 [==============================] - 3s 127ms/step - loss: 1.0266 - accuracy: 0.6950\n",
      "Epoch 7/60\n",
      "25/25 [==============================] - 3s 129ms/step - loss: 0.9448 - accuracy: 0.7113\n",
      "Epoch 8/60\n",
      "25/25 [==============================] - 3s 135ms/step - loss: 0.8729 - accuracy: 0.7312\n",
      "Epoch 9/60\n",
      "25/25 [==============================] - 3s 130ms/step - loss: 0.7706 - accuracy: 0.7625\n",
      "Epoch 10/60\n",
      "25/25 [==============================] - 3s 127ms/step - loss: 0.7302 - accuracy: 0.7837\n",
      "Epoch 11/60\n",
      "25/25 [==============================] - 3s 140ms/step - loss: 0.7693 - accuracy: 0.7525\n",
      "Epoch 12/60\n",
      "25/25 [==============================] - 3s 132ms/step - loss: 0.5772 - accuracy: 0.8087\n",
      "Epoch 13/60\n",
      "25/25 [==============================] - 3s 130ms/step - loss: 0.5760 - accuracy: 0.8375\n",
      "Epoch 14/60\n",
      "25/25 [==============================] - 3s 127ms/step - loss: 0.5113 - accuracy: 0.8600\n",
      "Epoch 15/60\n",
      "25/25 [==============================] - 3s 129ms/step - loss: 0.5736 - accuracy: 0.8225\n",
      "Epoch 16/60\n",
      "25/25 [==============================] - 3s 127ms/step - loss: 0.4559 - accuracy: 0.8575\n",
      "Epoch 17/60\n",
      "25/25 [==============================] - 3s 128ms/step - loss: 0.4238 - accuracy: 0.8700\n",
      "Epoch 18/60\n",
      "25/25 [==============================] - 3s 130ms/step - loss: 0.3287 - accuracy: 0.8988\n",
      "Epoch 19/60\n",
      "25/25 [==============================] - 3s 129ms/step - loss: 0.3599 - accuracy: 0.8788\n",
      "Epoch 20/60\n",
      "25/25 [==============================] - 3s 127ms/step - loss: 0.3276 - accuracy: 0.8888\n",
      "Epoch 21/60\n",
      "25/25 [==============================] - 3s 130ms/step - loss: 0.3096 - accuracy: 0.9013\n",
      "Epoch 22/60\n",
      "25/25 [==============================] - 3s 135ms/step - loss: 0.2568 - accuracy: 0.9150\n",
      "Epoch 23/60\n",
      "25/25 [==============================] - 3s 127ms/step - loss: 0.2783 - accuracy: 0.9112\n",
      "Epoch 24/60\n",
      "25/25 [==============================] - 3s 130ms/step - loss: 0.3042 - accuracy: 0.9137\n",
      "Epoch 25/60\n",
      "25/25 [==============================] - 3s 127ms/step - loss: 0.2749 - accuracy: 0.9125\n",
      "Epoch 26/60\n",
      "25/25 [==============================] - 3s 126ms/step - loss: 0.2352 - accuracy: 0.9275\n",
      "Epoch 27/60\n",
      "25/25 [==============================] - 3s 138ms/step - loss: 0.1926 - accuracy: 0.9312\n",
      "Epoch 28/60\n",
      "25/25 [==============================] - 4s 142ms/step - loss: 0.2066 - accuracy: 0.9425\n",
      "Epoch 29/60\n",
      "25/25 [==============================] - 4s 149ms/step - loss: 0.1399 - accuracy: 0.9575\n",
      "Epoch 30/60\n",
      "25/25 [==============================] - 3s 128ms/step - loss: 0.1590 - accuracy: 0.9488\n",
      "Epoch 31/60\n",
      "25/25 [==============================] - 3s 129ms/step - loss: 0.1912 - accuracy: 0.9400\n",
      "Epoch 32/60\n",
      "25/25 [==============================] - 3s 129ms/step - loss: 0.1480 - accuracy: 0.9525\n",
      "Epoch 33/60\n",
      "25/25 [==============================] - 3s 127ms/step - loss: 0.1179 - accuracy: 0.9700\n",
      "Epoch 34/60\n",
      "25/25 [==============================] - 3s 128ms/step - loss: 0.1249 - accuracy: 0.9625\n",
      "Epoch 35/60\n",
      "25/25 [==============================] - 3s 126ms/step - loss: 0.1492 - accuracy: 0.9550\n",
      "Epoch 36/60\n",
      "25/25 [==============================] - 3s 128ms/step - loss: 0.1586 - accuracy: 0.9425\n",
      "Epoch 37/60\n",
      "25/25 [==============================] - 3s 127ms/step - loss: 0.1819 - accuracy: 0.9388\n",
      "Epoch 38/60\n",
      "25/25 [==============================] - 3s 128ms/step - loss: 0.1437 - accuracy: 0.9525\n",
      "Epoch 39/60\n",
      "25/25 [==============================] - 3s 133ms/step - loss: 0.0746 - accuracy: 0.9787\n",
      "Epoch 40/60\n",
      "25/25 [==============================] - 3s 126ms/step - loss: 0.0854 - accuracy: 0.9762\n",
      "Epoch 41/60\n",
      "25/25 [==============================] - 3s 128ms/step - loss: 0.0819 - accuracy: 0.9700\n",
      "Epoch 42/60\n",
      "25/25 [==============================] - 3s 131ms/step - loss: 0.1094 - accuracy: 0.9688\n",
      "Epoch 43/60\n",
      "25/25 [==============================] - 3s 126ms/step - loss: 0.0716 - accuracy: 0.9800\n",
      "Epoch 44/60\n",
      "25/25 [==============================] - 3s 128ms/step - loss: 0.0699 - accuracy: 0.9812\n",
      "Epoch 45/60\n",
      "25/25 [==============================] - 3s 129ms/step - loss: 0.0580 - accuracy: 0.9837\n",
      "Epoch 46/60\n",
      "25/25 [==============================] - 3s 126ms/step - loss: 0.0432 - accuracy: 0.9950\n",
      "Epoch 47/60\n",
      "25/25 [==============================] - 3s 126ms/step - loss: 0.0398 - accuracy: 0.9875\n",
      "Epoch 48/60\n",
      "25/25 [==============================] - 3s 126ms/step - loss: 0.0508 - accuracy: 0.9875\n",
      "Epoch 49/60\n",
      "25/25 [==============================] - 3s 127ms/step - loss: 0.0824 - accuracy: 0.9725\n",
      "Epoch 50/60\n",
      "25/25 [==============================] - 3s 130ms/step - loss: 0.0791 - accuracy: 0.9737\n",
      "Epoch 51/60\n",
      "25/25 [==============================] - 3s 124ms/step - loss: 0.0674 - accuracy: 0.9762\n",
      "Epoch 52/60\n",
      "25/25 [==============================] - 3s 126ms/step - loss: 0.0754 - accuracy: 0.9787\n",
      "Epoch 53/60\n",
      "25/25 [==============================] - 3s 135ms/step - loss: 0.0933 - accuracy: 0.9712\n",
      "Epoch 54/60\n",
      "25/25 [==============================] - 4s 164ms/step - loss: 0.1013 - accuracy: 0.9663\n",
      "Epoch 55/60\n",
      "25/25 [==============================] - 3s 128ms/step - loss: 0.0696 - accuracy: 0.9825\n",
      "Epoch 56/60\n",
      "25/25 [==============================] - 3s 129ms/step - loss: 0.1263 - accuracy: 0.9525\n",
      "Epoch 57/60\n",
      "25/25 [==============================] - 3s 125ms/step - loss: 0.1105 - accuracy: 0.9675\n",
      "Epoch 58/60\n",
      "25/25 [==============================] - 3s 127ms/step - loss: 0.0702 - accuracy: 0.9800\n",
      "Epoch 59/60\n",
      "25/25 [==============================] - 3s 128ms/step - loss: 0.0757 - accuracy: 0.9750\n",
      "Epoch 60/60\n",
      "25/25 [==============================] - 3s 130ms/step - loss: 0.0946 - accuracy: 0.9737\n"
     ]
    },
    {
     "data": {
      "text/plain": [
       "<tensorflow.python.keras.callbacks.History at 0x7fcb9978d150>"
      ]
     },
     "execution_count": 31,
     "metadata": {},
     "output_type": "execute_result"
    }
   ],
   "source": [
    "cnn.fit(training_set,epochs=60,steps_per_epoch=25)"
   ]
  },
  {
   "cell_type": "code",
   "execution_count": 50,
   "metadata": {},
   "outputs": [],
   "source": [
    "import numpy as np\n",
    "from keras.preprocessing import image\n"
   ]
  },
  {
   "cell_type": "code",
   "execution_count": 87,
   "metadata": {},
   "outputs": [
    {
     "name": "stdout",
     "output_type": "stream",
     "text": [
      "{'Accordian': 0, 'Bagpipes': 1, 'Banjo': 2, 'Conga': 3, 'Dholak': 4, 'Drum': 5, 'Flute': 6, 'Guitar': 7, 'Harp': 8, 'Mouth_organ': 9, 'Piano': 10, 'Saxophone': 11, 'Sitar': 12, 'Tabla': 13, 'Trumpet': 14, 'Violin': 15}\n"
     ]
    }
   ],
   "source": [
    "test_img=image.load_img('/Users/saurabhmehanti/Desktop/test_tabla2.jpg', target_size=[64,64])\n",
    "test_img=image.img_to_array(test_img)\n",
    "test_img=np.expand_dims(test_img, axis=0)\n",
    "result=cnn.predict(test_img)\n",
    "print(training_set.class_indices)"
   ]
  },
  {
   "cell_type": "code",
   "execution_count": 88,
   "metadata": {},
   "outputs": [
    {
     "ename": "SyntaxError",
     "evalue": "invalid syntax (<ipython-input-88-19f4cc227139>, line 1)",
     "output_type": "error",
     "traceback": [
      "\u001b[0;36m  File \u001b[0;32m\"<ipython-input-88-19f4cc227139>\"\u001b[0;36m, line \u001b[0;32m1\u001b[0m\n\u001b[0;31m    if result[0][0]==[[1.0.0.0.0.0.0.0.0.0.0.0.0.0.0.0]]:\u001b[0m\n\u001b[0m                           ^\u001b[0m\n\u001b[0;31mSyntaxError\u001b[0m\u001b[0;31m:\u001b[0m invalid syntax\n"
     ]
    }
   ],
   "source": [
    "\n",
    "if result[0][0]==0:\n",
    "    pred='accordian'\n",
    "    \n",
    "elif result[0][0]==[[0.1]]:\n",
    "    pred='bagpiper'\n",
    "    \n",
    "elif result[0][0]==2:\n",
    "    pred='banjo'\n",
    "    \n",
    "elif result[0][0]==3:\n",
    "    pred='conga'\n",
    "    \n",
    "elif result[0][0]==4:\n",
    "    pred='dholak'\n",
    "    \n",
    "elif result[0][0]==5:\n",
    "    pred='drum'\n",
    "    \n",
    "elif result[0][0]==6:\n",
    "    pred='flute'\n",
    "    \n",
    "elif result[0][0]==7:\n",
    "    pred='guitar'\n",
    "    \n",
    "elif result[0][0]==8:\n",
    "    pred='harp'\n",
    "    \n",
    "elif result[0][0]==9:\n",
    "    pred='mouth organ'\n",
    "    \n",
    "elif result[0][0]==10:\n",
    "    pred='piano'\n",
    "    \n",
    "elif result[0][0]==11:\n",
    "    pred='saxophone'\n",
    "    \n",
    "elif result[0][0]==12:\n",
    "    pred='sitar'\n",
    "    \n",
    "elif result[0][0]==13:\n",
    "    pred='tabla'\n",
    "    \n",
    "elif result[0][0]==14:\n",
    "    pred='trumpet'\n",
    "    \n",
    "elif result[0][0]==15:\n",
    "    pred='violin'\n",
    "    \n",
    "print(pred, result,'\\n')"
   ]
  },
  {
   "cell_type": "code",
   "execution_count": null,
   "metadata": {},
   "outputs": [],
   "source": [
    "import cv2\n",
    "\n",
    "videoCaptureObject = cv2.VideoCapture(0)\n",
    "result = True\n",
    "while(result):\n",
    "    ret,frame = videoCaptureObject.read()\n",
    "    cv2.imwrite('new_pic.jpg',frame)\n",
    "    if cv2.waitKey(1) & 0xFF== ord('c'):\n",
    "        result=False\n",
    "        break\n",
    "#     elif cv2.waitKey(1) & 0xFF==ord('q'):\n",
    "#         break\n",
    "        \n",
    "videoCaptureObject.release()\n",
    "cv2.destroyAllWindows()"
   ]
  },
  {
   "cell_type": "code",
   "execution_count": null,
   "metadata": {},
   "outputs": [],
   "source": []
  },
  {
   "cell_type": "code",
   "execution_count": null,
   "metadata": {},
   "outputs": [],
   "source": []
  }
 ],
 "metadata": {
  "kernelspec": {
   "display_name": "Python 3",
   "language": "python",
   "name": "python3"
  },
  "language_info": {
   "codemirror_mode": {
    "name": "ipython",
    "version": 3
   },
   "file_extension": ".py",
   "mimetype": "text/x-python",
   "name": "python",
   "nbconvert_exporter": "python",
   "pygments_lexer": "ipython3",
   "version": "3.7.6"
  }
 },
 "nbformat": 4,
 "nbformat_minor": 4
}
